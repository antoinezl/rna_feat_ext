{
 "cells": [
  {
   "cell_type": "markdown",
   "metadata": {},
   "source": [
    "__DESCRIPTION__ : This script aims to extract every transcripts ids in a new file"
   ]
  },
  {
   "cell_type": "code",
   "execution_count": 1,
   "metadata": {
    "collapsed": false
   },
   "outputs": [],
   "source": [
    "with open(\"../data/Homo_sapiens.GRCh38.90.gtf\") as gtf_file, open(\"../results/transcripts_id.txt\", \"w+\") as filout:\n",
    "    firstNlines=gtf_file.readlines()[:] # Les 5 premières lignes sont le header\n",
    "    for line in firstNlines:\n",
    "        if line.startswith(\"#\"): # header\n",
    "            next\n",
    "        elif line.split(\";\")[0].split(\"\\t\")[2] == \"transcript\":\n",
    "            #print line.split(\";\")[0].split(\"\\t\")[2]\n",
    "            reading_line = line.split(\";\")\n",
    "            for l in reading_line:\n",
    "                if l.startswith(\" transcript_id\"):\n",
    "                    #print l.split(\" \")[2]\n",
    "                    tmp = l.split(\" \")[2]\n",
    "                    filout.write(tmp+\"\\n\")"
   ]
  },
  {
   "cell_type": "code",
   "execution_count": 2,
   "metadata": {
    "collapsed": false
   },
   "outputs": [
    {
     "name": "stdout",
     "output_type": "stream",
     "text": [
      "  200310 ../results/transcripts_id.txt\r\n"
     ]
    }
   ],
   "source": [
    "!wc -l ../results/transcripts_id.txt"
   ]
  },
  {
   "cell_type": "code",
   "execution_count": null,
   "metadata": {
    "collapsed": true
   },
   "outputs": [],
   "source": [
    "#!sort results/tmp_id.txt | uniq > results/output.txt"
   ]
  },
  {
   "cell_type": "code",
   "execution_count": null,
   "metadata": {
    "collapsed": true
   },
   "outputs": [],
   "source": [
    "#!wc -l ../results/output.txt"
   ]
  }
 ],
 "metadata": {
  "kernelspec": {
   "display_name": "Python 2",
   "language": "python",
   "name": "python2"
  },
  "language_info": {
   "codemirror_mode": {
    "name": "ipython",
    "version": 2
   },
   "file_extension": ".py",
   "mimetype": "text/x-python",
   "name": "python",
   "nbconvert_exporter": "python",
   "pygments_lexer": "ipython2",
   "version": "2.7.13"
  }
 },
 "nbformat": 4,
 "nbformat_minor": 2
}
