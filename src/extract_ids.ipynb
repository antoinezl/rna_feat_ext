{
 "cells": [
  {
   "cell_type": "markdown",
   "metadata": {},
   "source": [
    "__DESCRIPTION__:\n",
    "This function aims to extract coding sequences' transcript ids using biopython's GFF parser.\n",
    "Both input file and output file have to be given by the user.\n",
    "Takes a GFF file as input, return a txt file containing one id per line."
   ]
  },
  {
   "cell_type": "code",
   "execution_count": null,
   "metadata": {
    "collapsed": true
   },
   "outputs": [],
   "source": [
    "# MODULES\n",
    "import sys\n",
    "import time\n",
    "from BCBio import GFF"
   ]
  },
  {
   "cell_type": "code",
   "execution_count": null,
   "metadata": {
    "collapsed": true
   },
   "outputs": [],
   "source": [
    "def extract_cds_ids(in_file, out_file):\n",
    "    limit_info = dict(gff_type = [\"CDS\"])\n",
    "    with open(in_file, \"r\") as in_handle, open(out_file, \"w+\") as filout:\n",
    "        tmp_rec = \"none\"\n",
    "        for rec in GFF.parse(in_handle, limit_info=limit_info, target_lines=1):    \n",
    "            if tmp_rec != rec.features[0].id:\n",
    "                filout.write(rec.features[0].id.split(\":\")[1].strip('\"')+\"\\n\")\n",
    "                tmp_rec = rec.features[0].id\n",
    "    print \"Extraction done.\\n\"\n",
    "    return"
   ]
  },
  {
   "cell_type": "code",
   "execution_count": null,
   "metadata": {
    "collapsed": true
   },
   "outputs": [],
   "source": [
    "if __name__ == '__main__':\n",
    "\tstart = time.time()\n",
    "\t#------------------ MAIN ------------------\n",
    "\t#print sys.argv[1]\n",
    "\t#print sys.argv[2]\n",
    "\textract_cds_ids(sys.argv[1], sys.argv[2])\n",
    "\n",
    "\n",
    "\t#------------------------------------------\n",
    "\tend = time.time()\n",
    "\tprint(end - start)"
   ]
  }
 ],
 "metadata": {
  "kernelspec": {
   "display_name": "Python 2",
   "language": "python",
   "name": "python2"
  },
  "language_info": {
   "codemirror_mode": {
    "name": "ipython",
    "version": 2
   },
   "file_extension": ".py",
   "mimetype": "text/x-python",
   "name": "python",
   "nbconvert_exporter": "python",
   "pygments_lexer": "ipython2",
   "version": "2.7.13"
  }
 },
 "nbformat": 4,
 "nbformat_minor": 2
}
